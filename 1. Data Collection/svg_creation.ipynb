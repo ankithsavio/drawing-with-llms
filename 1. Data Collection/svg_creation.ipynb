{
 "cells": [
  {
   "cell_type": "code",
   "execution_count": 1,
   "id": "4b61cb40",
   "metadata": {},
   "outputs": [
    {
     "name": "stdout",
     "output_type": "stream",
     "text": [
      "/mnt/c/Users/ankit/Desktop/Portfolio/kaggle/drawing-with-llms\n"
     ]
    }
   ],
   "source": [
    "%cd .."
   ]
  },
  {
   "cell_type": "code",
   "execution_count": null,
   "id": "4a084dc0",
   "metadata": {},
   "outputs": [
    {
     "data": {
      "text/plain": [
       "True"
      ]
     },
     "execution_count": 63,
     "metadata": {},
     "output_type": "execute_result"
    }
   ],
   "source": [
    "import ast\n",
    "import os\n",
    "import random\n",
    "import re\n",
    "import time\n",
    "from typing import List\n",
    "\n",
    "import pandas as pd\n",
    "from camel.agents import ChatAgent\n",
    "from camel.datagen.cot_datagen import CoTDataGenerator, logger\n",
    "from camel.models.model_factory import ModelFactory, ModelPlatformType, ModelType\n",
    "from datasets import load_dataset\n",
    "from dotenv import load_dotenv\n",
    "from pydantic import BaseModel\n",
    "from tqdm import tqdm\n",
    "\n",
    "from utils.constraints import SVGConstraints\n",
    "from utils.process_response import svg_to_png\n",
    "from utils.verifier import VQAEvaluator\n",
    "\n",
    "load_dotenv(\".env\")"
   ]
  },
  {
   "cell_type": "code",
   "execution_count": 4,
   "id": "a548987a",
   "metadata": {},
   "outputs": [],
   "source": [
    "model = ModelFactory.create(\n",
    "    model_platform=ModelPlatformType.OPENAI_COMPATIBLE_MODEL,\n",
    "    model_type=ModelType.GEMINI_2_5_FLASH_PREVIEW,\n",
    "    url=\"https://generativelanguage.googleapis.com/v1beta/openai/\",\n",
    "    api_key=os.getenv(\"GEMINI_API_KEY\"),\n",
    ")"
   ]
  },
  {
   "cell_type": "code",
   "execution_count": 42,
   "id": "6acc1419",
   "metadata": {},
   "outputs": [],
   "source": [
    "PROMPT = \"\"\" \n",
    "# Role\n",
    "You are a meticulous and highly skilled AI SVG Architect. Your primary function is to translate rich textual descriptions of sceneries into precise, well-structured SVG code.\n",
    "\n",
    "# Objective\n",
    "Generate SVG code that accurately and comprehensively depicts the scenery described in the input text. The generated SVG will undergo rigorous Visual Question Answering (VQA) evaluation. All VQA questions will be answerable *solely* from the information present in the original text description. Therefore, absolute fidelity to *all* details in the description is paramount.\n",
    "\n",
    "# Strategy\n",
    "Generating complex SVG directly is prone to errors. Employ a Chain of Thought (CoT) process to first decompose the described scenery into constituent entities, map these entities to fundamental SVG primitives (rectangles, circles, paths, etc.), plan their attributes and layout, and only then construct the final SVG code. This structured approach is critical for accuracy and for adhering to the constraints.\n",
    "\n",
    "# Constraints\n",
    "1.  Allowed SVG Elements: `svg`, `path`, `circle`, `rect`, `ellipse`, `line`, `polyline`, `polygon`, `g`, `linearGradient`, `radialGradient`, `stop`, `defs`.\n",
    "2.  Allowed SVG Attributes: `viewBox`, `width`, `height`, `fill`, `stroke`, `stroke-width`, `d`, `cx`, `cy`, `r`, `x`, `y`, `rx`, `ry`, `x1`, `y1`, `x2`, `y2`, `points`, `transform`, `opacity`. *No other elements or attributes are permitted.*\n",
    "3.  Token Limit: Your entire response (CoT + SVG code) must not exceed 2000 tokens. Conciseness in both your reasoning and the generated SVG is key.\n",
    "4.  Completeness: The SVG must visually represent *every* distinct object, property, and spatial relationship mentioned in the description.\n",
    "\n",
    "Chain of Thought (CoT) Steps:\n",
    "\n",
    "Phase 1: Scene Deconstruction & Entity Analysis\n",
    "    1.1. Full Text Parsing: Read and internalize the entire description.\n",
    "    1.2. Entity Identification: List every distinct visual entity mentioned (e.g., sun, specific tree type, house, car model if specified, clouds).\n",
    "    1.3. Attribute Extraction per Entity: For each entity, meticulously detail its properties:\n",
    "        *   Component Primitives: Identify how the entity can be constructed from one or more allowed SVG primitives (e.g., a \"house\" might be a `rect` for the body and a `polygon` or `path` for the roof). Be explicit about this decomposition.\n",
    "        *   Visual Properties: Color (fill, stroke), stroke width, opacity. Specify exact color values (e.g., \"blue\", \"#FF0000\", \"rgb(0,0,255)\"). If a color is implied (e.g., \"a grassy field\"), infer a common color (e.g., green).\n",
    "        *   Size & Scale: Note any described dimensions or relative sizes (e.g., \"a tall tree,\" \"a small window\"). If not specified, use reasonable default proportions relative to other objects or the canvas.\n",
    "        *   Position & Orientation: Note absolute (e.g., \"in the top-left corner\") or relative positioning (e.g., \"the sun is above the mountains,\" \"a car is parked next to the house\"). Also note any rotation or skew if described and how it might be achieved with `transform`.\n",
    "        *   Relationships:** Document how entities relate to each other spatially (e.g., overlapping, adjacent, contained within).\n",
    "\n",
    "Phase 2: SVG Mapping & Layout Planning\n",
    "    2.1. Canvas Definition: Choose viewBox=\"0 0 368 368\". This defines your coordinate space. All subsequent coordinates will be relative to this.\n",
    "    2.2. Primitive Mapping & Attribute Specification: For each component primitive identified in 1.3:\n",
    "        *   Select the precise SVG elements\n",
    "        *   Translate the visual properties from 1.3 into specific SVG attribute values (e.g., `fill=\"blue\"`, `r=\"10\"`, `d=\"...\"`).\n",
    "        *   Calculate and assign coordinates (`cx`, `cy`, `x`, `y`, `points`, path commands) and dimensions (`r`, `width`, `height`) based on the `viewBox` and the entity's position/size from 1.3. Be explicit about these calculations if they are not trivial.\n",
    "        *   Consider the z-ordering (drawing order): elements drawn later appear on top. Plan the sequence of elements accordingly (e.g., background elements first, foreground elements last).\n",
    "    2.3. Grouping Strategy: Determine if `<g>` elements are beneficial for grouping components of complex entities or for applying shared transformations or styles. Plan any `transform` attributes for these groups or individual elements.\n",
    "    2.4. Gradient Definitions: If the description implies gradients (e.g., \"sky fading from blue to orange\"), define `linearGradient` or `radialGradient` elements within `<defs>` with appropriate `stop` colors and offsets. Assign them unique `id`s. These `id`s will be referenced in `fill` attributes (e.g., `fill=\"url(#myGradient)\"`).\n",
    "\n",
    "Phase 3: Code Generation \n",
    "    3.1. SVG Construction: Systematically write the SVG code.\n",
    "\n",
    "# Output Format\n",
    "### COT\n",
    "[Chain of Thought as a multi line single paragraph]\n",
    "### SVG\n",
    "[SVG Code]\n",
    "\n",
    "### Input\n",
    "Description: {description}\n",
    "\n",
    "### Output\n",
    "\"\"\""
   ]
  },
  {
   "cell_type": "code",
   "execution_count": null,
   "id": "6282dd2d",
   "metadata": {},
   "outputs": [],
   "source": [
    "class VQACoT(CoTDataGenerator):\n",
    "    def __init__(self, **kwargs):\n",
    "        super().__init__(**kwargs)\n",
    "\n",
    "        self.vqa_model = VQAEvaluator()\n",
    "        self.dataset = load_dataset(\n",
    "            \"csv\",\n",
    "            data_files=\"data/descriptions_with_vqa.csv\",\n",
    "        )[\"train\"]  # type: ignore\n",
    "        self.default_svg = \"\"\"<svg width=\"256\" height=\"256\" viewBox=\"0 0 256 256\"><circle cx=\"50\" cy=\"50\" r=\"40\" fill=\"red\" /></svg>\"\"\"\n",
    "        self.svg_constraints = SVGConstraints()\n",
    "\n",
    "    def extract_response(self, text: str):\n",
    "        text = text.split(\"### COT\")[1]\n",
    "        cot, svg = text.split(\"### SVG\")\n",
    "\n",
    "        if \"```svg\" in svg:\n",
    "            svg = svg.split(\"```svg\")[1]\n",
    "            svg = svg.split(\"```\")[0]\n",
    "\n",
    "        return cot.strip(), svg.strip()\n",
    "\n",
    "    def extract_image(self, text: str):\n",
    "        matches = re.findall(r\"<svg.*?</svg>\", text, re.DOTALL | re.IGNORECASE)\n",
    "        if matches:\n",
    "            svg = matches[-1]\n",
    "        else:\n",
    "            svg = self.default_svg\n",
    "\n",
    "        try:\n",
    "            self.svg_constraints.validate_svg(svg)\n",
    "        except Exception:\n",
    "            svg = self.default_svg\n",
    "\n",
    "        image = svg_to_png(svg)\n",
    "\n",
    "        return image\n",
    "\n",
    "    def get_answer(self, question: str, context: str = \"\"):\n",
    "        self.generator_agent.reset()\n",
    "        response = self.generator_agent.step(PROMPT.format(question))  # description\n",
    "        cot, svg = self.extract_response(response.msgs[0].content)\n",
    "        answer = cot + \"\\n\" + svg\n",
    "        logger.info(\"AI thought process:\\n%s\", answer)\n",
    "        return answer\n",
    "\n",
    "    def _get_score(self, question: str, answer: str):\n",
    "        \"\"\"\n",
    "        Calculate vqa score of the svg (answer) for the given question (description)\n",
    "        \"\"\"\n",
    "        sample = self.dataset[self.dataset[\"description\"].index(question)]  # type: ignore\n",
    "        limit = 4\n",
    "        question_list = ast.literal_eval(sample[\"question\"])[:limit]\n",
    "        choices_list = ast.literal_eval(sample[\"choices\"])[:limit]\n",
    "        answer_list = ast.literal_eval(sample[\"answer\"])[:limit]\n",
    "\n",
    "        image = self.extract_image(answer)\n",
    "\n",
    "        score = self.vqa_model.score(\n",
    "            question_list, choices_list, answer_list, [image], 1\n",
    "        )  # batch size 1\n",
    "        return score\n",
    "\n",
    "    def verify_answer(self, question: str, answer: str):\n",
    "        score = self._get_score(question, answer)\n",
    "\n",
    "        if score > 0.8:  # Threshold for acceptance\n",
    "            is_correct = True\n",
    "        else:\n",
    "            is_correct = False\n",
    "\n",
    "        logger.info(\"Answer verification result: %s\", is_correct)\n",
    "        return is_correct\n",
    "\n",
    "    def evaluate_partial_solution(self, question: str, partial_solution: str = \"\"):\n",
    "        score = self._get_score(question, partial_solution)\n",
    "\n",
    "        return score\n"
   ]
  },
  {
   "cell_type": "code",
   "execution_count": null,
   "id": "04ff2d57",
   "metadata": {},
   "outputs": [],
   "source": [
    "# TODO : Create a sophisticated SVG Creation workflow"
   ]
  }
 ],
 "metadata": {
  "kernelspec": {
   "display_name": "auto",
   "language": "python",
   "name": "python3"
  },
  "language_info": {
   "codemirror_mode": {
    "name": "ipython",
    "version": 3
   },
   "file_extension": ".py",
   "mimetype": "text/x-python",
   "name": "python",
   "nbconvert_exporter": "python",
   "pygments_lexer": "ipython3",
   "version": "3.10.16"
  }
 },
 "nbformat": 4,
 "nbformat_minor": 5
}
