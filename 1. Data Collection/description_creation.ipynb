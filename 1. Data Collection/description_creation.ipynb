{
 "cells": [
  {
   "cell_type": "markdown",
   "id": "393fda5a",
   "metadata": {},
   "source": [
    "## Import dependencies"
   ]
  },
  {
   "cell_type": "code",
   "execution_count": 1,
   "id": "7a1cfb00",
   "metadata": {},
   "outputs": [
    {
     "name": "stdout",
     "output_type": "stream",
     "text": [
      "/mnt/c/Users/ankit/Desktop/Portfolio/kaggle/drawing-with-llms\n"
     ]
    }
   ],
   "source": [
    "%cd .."
   ]
  },
  {
   "cell_type": "code",
   "execution_count": 22,
   "id": "781b4f56",
   "metadata": {},
   "outputs": [
    {
     "data": {
      "text/plain": [
       "True"
      ]
     },
     "execution_count": 22,
     "metadata": {},
     "output_type": "execute_result"
    }
   ],
   "source": [
    "from dotenv import load_dotenv\n",
    "import pandas as pd\n",
    "from utils.llm import llm\n",
    "import os\n",
    "import time\n",
    "import random\n",
    "from json import loads\n",
    "from datasets import load_dataset\n",
    "from tqdm import tqdm\n",
    "from utils.process_response import extract_json_response\n",
    "\n",
    "load_dotenv(\".env\")"
   ]
  },
  {
   "cell_type": "markdown",
   "id": "a27085c7",
   "metadata": {},
   "source": [
    "## View Descriptions"
   ]
  },
  {
   "cell_type": "code",
   "execution_count": 13,
   "id": "747a4308",
   "metadata": {},
   "outputs": [
    {
     "name": "stdout",
     "output_type": "stream",
     "text": [
      "['a purple forest at dusk', 'gray wool coat with a faux fur collar', 'a lighthouse overlooking the ocean', 'burgundy corduroy pants with patch pockets and silver buttons', 'orange corduroy overalls', 'a purple silk scarf with tassel trim', 'a green lagoon under a cloudy sky', 'crimson rectangles forming a chaotic grid', 'purple pyramids spiraling around a bronze cone', 'magenta trapezoids layered on a transluscent silver sheet', 'a snowy plain', 'black and white checkered pants', 'a starlit night over snow-covered peaks', 'khaki triangles and azure crescents', 'a maroon dodecahedron interwoven with teal threads']\n"
     ]
    }
   ],
   "source": [
    "data = load_dataset(\"csv\", data_files=\"data/combined_train.csv\")[\"train\"]\n",
    "\n",
    "data[\"description\"]"
   ]
  },
  {
   "cell_type": "markdown",
   "id": "8575eceb",
   "metadata": {},
   "source": [
    "We need more descriptions in order to consider Fine Tuning\n",
    "\n",
    "Define a loop to randomly sample descriptions from the dataset and generate more similar samples using Gemini 2.5 Flash"
   ]
  },
  {
   "cell_type": "code",
   "execution_count": 29,
   "id": "bbedc817",
   "metadata": {},
   "outputs": [
    {
     "name": "stderr",
     "output_type": "stream",
     "text": [
      "  0%|          | 0/2 [00:00<?, ?it/s]"
     ]
    },
    {
     "name": "stderr",
     "output_type": "stream",
     "text": [
      "100%|██████████| 2/2 [00:17<00:00,  8.64s/it]\n"
     ]
    },
    {
     "data": {
      "text/html": [
       "<div>\n",
       "<style scoped>\n",
       "    .dataframe tbody tr th:only-of-type {\n",
       "        vertical-align: middle;\n",
       "    }\n",
       "\n",
       "    .dataframe tbody tr th {\n",
       "        vertical-align: top;\n",
       "    }\n",
       "\n",
       "    .dataframe thead th {\n",
       "        text-align: right;\n",
       "    }\n",
       "</style>\n",
       "<table border=\"1\" class=\"dataframe\">\n",
       "  <thead>\n",
       "    <tr style=\"text-align: right;\">\n",
       "      <th></th>\n",
       "      <th>description</th>\n",
       "    </tr>\n",
       "  </thead>\n",
       "  <tbody>\n",
       "    <tr>\n",
       "      <th>0</th>\n",
       "      <td>Emerald wavy lines intersecting silver straigh...</td>\n",
       "    </tr>\n",
       "    <tr>\n",
       "      <th>1</th>\n",
       "      <td>Crimson rhombi interconnected by thin brass li...</td>\n",
       "    </tr>\n",
       "    <tr>\n",
       "      <th>2</th>\n",
       "      <td>A beige sphere textured like wood grain</td>\n",
       "    </tr>\n",
       "    <tr>\n",
       "      <th>3</th>\n",
       "      <td>Crimson hexagons orbiting a white sphere</td>\n",
       "    </tr>\n",
       "    <tr>\n",
       "      <th>4</th>\n",
       "      <td>Teal waves rippling across a sandy plane.</td>\n",
       "    </tr>\n",
       "  </tbody>\n",
       "</table>\n",
       "</div>"
      ],
      "text/plain": [
       "                                         description\n",
       "0  Emerald wavy lines intersecting silver straigh...\n",
       "1  Crimson rhombi interconnected by thin brass li...\n",
       "2            A beige sphere textured like wood grain\n",
       "3           Crimson hexagons orbiting a white sphere\n",
       "4          Teal waves rippling across a sandy plane."
      ]
     },
     "execution_count": 29,
     "metadata": {},
     "output_type": "execute_result"
    }
   ],
   "source": [
    "# modified prompt from https://github.com/camel-ai/camel/blob/a48b948cbddd80b1cf5ad4d7ef99b3bfc21ec9ec/camel/datasets/few_shot_generator.py#L32\n",
    "\n",
    "SYSTEM_PROMPT = \"\"\"**You are an advanced data generation assistant.**  \n",
    "Your goal is to generate high-quality synthetic data samples based on \n",
    "provided examples. Your output must be well-structured, \n",
    "logically sound, and formatted correctly. \n",
    "\n",
    "**Instructions:**\n",
    "1. **Follow the Structure**  \n",
    "   Each data sample must include:  \n",
    "   - **Description**: A clear, well-formed description of an SVG image.  \n",
    "   - **Rationale**: A step-by-step, reasoning process for generation of the Description.  \n",
    "\n",
    "2. **Output Format (Strict)**\n",
    "   - A list of json consisteing of five data samples\n",
    "```\n",
    "[{\"description\" : \"Generated description\"\n",
    "\"rationale\": \"reasoning why this description makes sense as a data sample\"},\n",
    "...\n",
    "]\n",
    "```\n",
    "\n",
    "**Now, generate 5 new data samples based on the given examples.**\n",
    "\"\"\"\n",
    "\n",
    "total_samples = 10\n",
    "num_samples_gen = 5\n",
    "sample_collection = []\n",
    "\n",
    "model = llm(model=\"gemini-2.5-flash-preview-04-17\", api_key=os.getenv(\"GEMINI_API_KEY\"))\n",
    "\n",
    "model.messages.append(\n",
    "    {\"role\": \"system\", \"content\": SYSTEM_PROMPT}\n",
    ")\n",
    "\n",
    "for i in tqdm(range(int(total_samples / num_samples_gen))):\n",
    "    num_examples = random.randrange(5, 10)\n",
    "    indices = [random.randrange(0, len(data)) for _ in range(num_examples)]\n",
    "\n",
    "    # every iteration randomly add samples from the dataset in context\n",
    "    USER_PROMPT = \"<examples>\" + \"\\n\".join(data[indices][\"description\"]) + \"</examples>\"\n",
    "\n",
    "    response = model(USER_PROMPT)\n",
    "\n",
    "    try:\n",
    "        samples = loads(extract_json_response(response))\n",
    "    except Exception:\n",
    "        samples = [{\"description\": \"\"}] * num_samples_gen\n",
    "\n",
    "    for sample in samples:\n",
    "        sample_collection.append(sample[\"description\"])\n",
    "\n",
    "    # remove user prompt\n",
    "    model.messages.pop()\n",
    "    # manual delay for rate limit\n",
    "    time.sleep(2)\n",
    "\n",
    "unique_sample_collection = set(sample_collection)\n",
    "\n",
    "df_save = pd.DataFrame({\"description\": list(unique_sample_collection)})\n",
    "df_save.dropna(inplace=True)\n",
    "# df_save.to_csv(\"data/descriptions.csv\", index=False)\n",
    "df_save.head()"
   ]
  }
 ],
 "metadata": {
  "kernelspec": {
   "display_name": "auto",
   "language": "python",
   "name": "python3"
  },
  "language_info": {
   "codemirror_mode": {
    "name": "ipython",
    "version": 3
   },
   "file_extension": ".py",
   "mimetype": "text/x-python",
   "name": "python",
   "nbconvert_exporter": "python",
   "pygments_lexer": "ipython3",
   "version": "3.10.16"
  }
 },
 "nbformat": 4,
 "nbformat_minor": 5
}
